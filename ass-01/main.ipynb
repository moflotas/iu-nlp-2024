{
  "cells": [
    {
      "cell_type": "markdown",
      "metadata": {
        "id": "RKboZnAdgrRM"
      },
      "source": [
        "# [NLP] Assignment 1: Tokenization\n",
        "\n",
        "In this assignment, you need to tokenize the text of the Twitter(X) users posts(tweets). The assignment consists of two tasks. When you finish all the tasks, create a GitHub repository for this assignment (you can use this repo later for the other assignments) and submit this notebook in the repository. Leave `requirements.txt` file if your code requires additional installations. Submit the link to the repository in Moodle.\n",
        "\n",
        "The [data](https://drive.google.com/file/d/15x_wPAflvYQ2Xh38iNQGrqUIWLj5l5Nw/view?usp=share_link) contains 5 files whereby each contains 44 tweets. Each tweet is separated by a newline."
      ]
    },
    {
      "cell_type": "markdown",
      "metadata": {
        "id": "aLDjjAvemUP_"
      },
      "source": [
        "## Task 1. Tokenize some tweets manually (20 points)\n",
        "\n",
        "As a first task you need to tokenize first 15 tweets from `file2` by hand. This will allow you to understand the problem from a linguistic point of view. The guidelines for tweet tokenization are as follows:\n",
        "\n",
        "- Each smiley is a separate token\n",
        "- Each hashtag is an individual token. Each user reference is an individual token\n",
        "- If a word has spaces between them then it is converted to a single token\n",
        "- All punctuations are individual tokens. This includes double-quotes and single quotes also\n",
        "- A URL is a single token\n",
        "\n",
        "Example of output\n",
        "\n",
        "    Input tweet\n",
        "    @xfranman Old age has made N A T O!\n",
        "\n",
        "    Tokenized tweet (separated by comma)\n",
        "    @xfranman , Old , age , has , made , NATO , !"
      ]
    },
    {
      "cell_type": "markdown",
      "metadata": {
        "id": "7KKKwTidnzUw"
      },
      "source": [
        "\n",
        "    1. Input tweet\n",
        "    ...\n",
        "    1. Tokenized tweet\n",
        "    ...\n",
        "\n",
        "    2. Input tweet\n",
        "    ...\n",
        "    2. Tokenized tweet\n",
        "    ..."
      ]
    },
    {
      "cell_type": "code",
      "execution_count": 1,
      "metadata": {},
      "outputs": [
        {
          "name": "stdout",
          "output_type": "stream",
          "text": [
            "--2024-02-25 00:17:56--  https://docs.google.com/uc?export=download&id=15x_wPAflvYQ2Xh38iNQGrqUIWLj5l5Nw\n",
            "Loaded CA certificate '/etc/ssl/certs/ca-certificates.crt'\n",
            "Resolving docs.google.com (docs.google.com)... 142.250.179.174, 2a00:1450:400e:80f::200e\n",
            "Connecting to docs.google.com (docs.google.com)|142.250.179.174|:443... connected.\n",
            "HTTP request sent, awaiting response... 303 See Other\n",
            "Location: https://drive.usercontent.google.com/download?id=15x_wPAflvYQ2Xh38iNQGrqUIWLj5l5Nw&export=download [following]\n",
            "--2024-02-25 00:17:56--  https://drive.usercontent.google.com/download?id=15x_wPAflvYQ2Xh38iNQGrqUIWLj5l5Nw&export=download\n",
            "Resolving drive.usercontent.google.com (drive.usercontent.google.com)... 142.251.36.33, 2a00:1450:400e:810::2001\n",
            "Connecting to drive.usercontent.google.com (drive.usercontent.google.com)|142.251.36.33|:443... connected.\n",
            "HTTP request sent, awaiting response... 200 OK\n",
            "Length: 15647 (15K) [application/octet-stream]\n",
            "Saving to: ‘data/english_tweets.zip’\n",
            "\n",
            "data/english_tweets 100%[===================>]  15.28K  --.-KB/s    in 0.07s   \n",
            "\n",
            "2024-02-25 00:17:57 (213 KB/s) - ‘data/english_tweets.zip’ saved [15647/15647]\n",
            "\n",
            "Archive:  data/english_tweets.zip\n",
            "  inflating: data/english_tweets/file5  \n",
            "  inflating: data/english_tweets/__MACOSX/._file5  \n",
            "  inflating: data/english_tweets/file4  \n",
            "  inflating: data/english_tweets/__MACOSX/._file4  \n",
            "  inflating: data/english_tweets/file3  \n",
            "  inflating: data/english_tweets/__MACOSX/._file3  \n",
            "  inflating: data/english_tweets/file2  \n",
            "  inflating: data/english_tweets/__MACOSX/._file2  \n",
            "  inflating: data/english_tweets/file1  \n",
            "  inflating: data/english_tweets/__MACOSX/._file1  \n",
            "--2024-02-25 00:17:57--  https://raw.githubusercontent.com/HunterHeidy/HASOC2020/master/data/clean_german_test_1509.csv\n",
            "Loaded CA certificate '/etc/ssl/certs/ca-certificates.crt'\n",
            "Resolving raw.githubusercontent.com (raw.githubusercontent.com)... 185.199.109.133, 185.199.111.133, 185.199.110.133, ...\n",
            "Connecting to raw.githubusercontent.com (raw.githubusercontent.com)|185.199.109.133|:443... connected.\n",
            "HTTP request sent, awaiting response... 200 OK\n",
            "Length: 63545 (62K) [text/plain]\n",
            "Saving to: ‘data/german_tweets.csv’\n",
            "\n",
            "data/german_tweets. 100%[===================>]  62.06K  --.-KB/s    in 0.09s   \n",
            "\n",
            "2024-02-25 00:17:58 (668 KB/s) - ‘data/german_tweets.csv’ saved [63545/63545]\n",
            "\n"
          ]
        }
      ],
      "source": [
        "# To download the dataset, please run the following command:\n",
        "!bash download.sh"
      ]
    },
    {
      "cell_type": "code",
      "execution_count": 2,
      "metadata": {},
      "outputs": [],
      "source": [
        "from pathlib import Path\n",
        "\n",
        "root = Path(\"data/english_tweets\")"
      ]
    },
    {
      "cell_type": "code",
      "execution_count": 3,
      "metadata": {},
      "outputs": [
        {
          "name": "stdout",
          "output_type": "stream",
          "text": [
            "```\n",
            "1. Input tweet\n",
            "Camping in Maine for the weekend. Hey Dad, Mama Loves YOU: http://www.mamapalooza.com\n",
            "    \n",
            "1. Tokenized tweet\n",
            "TODO: Camping in Maine for the weekend. Hey Dad, Mama Loves YOU: http://www.mamapalooza.com\n",
            "\n",
            "\n",
            "```\n",
            "```\n",
            "2. Input tweet\n",
            "Its american tradition bitch\n",
            "    \n",
            "2. Tokenized tweet\n",
            "TODO: Its american tradition bitch\n",
            "\n",
            "\n",
            "```\n",
            "```\n",
            "3. Input tweet\n",
            "@ThroughTheVoid They love it! The only pleasure they get in life. I actually do that. I'm sure I hear a tiny squeak... Then louder ones\n",
            "    \n",
            "3. Tokenized tweet\n",
            "TODO: @ThroughTheVoid They love it! The only pleasure they get in life. I actually do that. I'm sure I hear a tiny squeak... Then louder ones\n",
            "\n",
            "\n",
            "```\n",
            "```\n",
            "4. Input tweet\n",
            "\" RT @latti: @AbsoHilare stop tweeting in church! Lol <--- \"\"I tweet because I'm happy, I tweet because I'm free\"\" LOL!\"\n",
            "    \n",
            "4. Tokenized tweet\n",
            "TODO: \" RT @latti: @AbsoHilare stop tweeting in church! Lol <--- \"\"I tweet because I'm happy, I tweet because I'm free\"\" LOL!\"\n",
            "\n",
            "\n",
            "```\n",
            "```\n",
            "5. Input tweet\n",
            "Samsung Mini S2 portable HDD graced with colors that perfectly match your tacky beach gear: Sammy's done it aga.. http://tinyurl.com/lb5p6m\n",
            "    \n",
            "5. Tokenized tweet\n",
            "TODO: Samsung Mini S2 portable HDD graced with colors that perfectly match your tacky beach gear: Sammy's done it aga.. http://tinyurl.com/lb5p6m\n",
            "\n",
            "\n",
            "```\n",
            "```\n",
            "6. Input tweet\n",
            "@dialloc congrats on finding your way over. it may be slow going at first. hang in there. it's kinda cool when u get up to speed.\n",
            "    \n",
            "6. Tokenized tweet\n",
            "TODO: @dialloc congrats on finding your way over. it may be slow going at first. hang in there. it's kinda cool when u get up to speed.\n",
            "\n",
            "\n",
            "```\n",
            "```\n",
            "7. Input tweet\n",
            "iPhone activation delays continue, Apple offers $30 http://twt.gs/l3Ki\n",
            "    \n",
            "7. Tokenized tweet\n",
            "TODO: iPhone activation delays continue, Apple offers $30 http://twt.gs/l3Ki\n",
            "\n",
            "\n",
            "```\n",
            "```\n",
            "8. Input tweet\n",
            "RT @GoogleAtWork Gmail maximum attachment size now 25MB http://bit.ly/62mjw Nice!!!\n",
            "    \n",
            "8. Tokenized tweet\n",
            "TODO: RT @GoogleAtWork Gmail maximum attachment size now 25MB http://bit.ly/62mjw Nice!!!\n",
            "\n",
            "\n",
            "```\n",
            "```\n",
            "9. Input tweet\n",
            "RT @acfou The Ads Won Awards for Crispin; But Did Nothing for Client BurgerKing's Sales/Marketshare - Big Surprise - http://ping.fm/vw8TI\n",
            "    \n",
            "9. Tokenized tweet\n",
            "TODO: RT @acfou The Ads Won Awards for Crispin; But Did Nothing for Client BurgerKing's Sales/Marketshare - Big Surprise - http://ping.fm/vw8TI\n",
            "\n",
            "\n",
            "```\n",
            "```\n",
            "10. Input tweet\n",
            "Hey doll! Great I missed True Blood yday boo lol Rt @FrankBanuat78 @jhillstephens Hello Sunshine how are u today? :-)\n",
            "    \n",
            "10. Tokenized tweet\n",
            "TODO: Hey doll! Great I missed True Blood yday boo lol Rt @FrankBanuat78 @jhillstephens Hello Sunshine how are u today? :-)\n",
            "\n",
            "\n",
            "```\n",
            "```\n",
            "11. Input tweet\n",
            "Australian artist Pogo made these free songs primarily from sampled audio from Alice In Wonderland. http://www.last.fm/music/Pogo/Wonderland\n",
            "    \n",
            "11. Tokenized tweet\n",
            "TODO: Australian artist Pogo made these free songs primarily from sampled audio from Alice In Wonderland. http://www.last.fm/music/Pogo/Wonderland\n",
            "\n",
            "\n",
            "```\n",
            "```\n",
            "12. Input tweet\n",
            "@mppritchard they wanted to sell all the preorders & then sell all of the ones they had in stock to those that just walked in. Can't do both\n",
            "    \n",
            "12. Tokenized tweet\n",
            "TODO: @mppritchard they wanted to sell all the preorders & then sell all of the ones they had in stock to those that just walked in. Can't do both\n",
            "\n",
            "\n",
            "```\n",
            "```\n",
            "13. Input tweet\n",
            "Incoming: Frightened Rabbit, Sept. 22 (Tucson): If Fat Cat Records is going to send three great bands from Scot.. http://tinyurl.com/nz6xcv\n",
            "    \n",
            "13. Tokenized tweet\n",
            "TODO: Incoming: Frightened Rabbit, Sept. 22 (Tucson): If Fat Cat Records is going to send three great bands from Scot.. http://tinyurl.com/nz6xcv\n",
            "\n",
            "\n",
            "```\n",
            "```\n",
            "14. Input tweet\n",
            "Hey @ginoandfran please greet philip! (GinoandFran live > http://ustre.am/2YyQ)\n",
            "    \n",
            "14. Tokenized tweet\n",
            "TODO: Hey @ginoandfran please greet philip! (GinoandFran live > http://ustre.am/2YyQ)\n",
            "\n",
            "\n",
            "```\n",
            "```\n",
            "15. Input tweet\n",
            "Ik weet niet wie er achter de T-Mobile iPhone Twitter zit maar ik vind het niet echt 'corporate' taalgebruik... Best vreemd eigenlijk\n",
            "    \n",
            "15. Tokenized tweet\n",
            "TODO: Ik weet niet wie er achter de T-Mobile iPhone Twitter zit maar ik vind het niet echt 'corporate' taalgebruik... Best vreemd eigenlijk\n",
            "\n",
            "\n",
            "```\n"
          ]
        }
      ],
      "source": [
        "with open(root / \"file2\") as f:\n",
        "    data = f.readlines()\n",
        "    print(\n",
        "        *[\n",
        "            \"\"\"```\n",
        "{0}. Input tweet\n",
        "{1}    \n",
        "{0}. Tokenized tweet\n",
        "TODO: {1}\n",
        "\n",
        "```\"\"\".format(\n",
        "                i + 1, text\n",
        "            )\n",
        "            for i, text in enumerate(data[:15])\n",
        "        ],\n",
        "        sep=\"\\n\"\n",
        "    )"
      ]
    },
    {
      "cell_type": "markdown",
      "metadata": {},
      "source": [
        "```\n",
        "1. Input tweet\n",
        "Camping in Maine for the weekend. Hey Dad, Mama Loves YOU: http://www.mamapalooza.com\n",
        "    \n",
        "1. Tokenized tweet\n",
        "Camping , in , Maine , for , the , weekend , . , Hey , Dad , , , Mama , Loves , YOU , : , http://www.mamapalooza.com\n",
        "\n",
        "\n",
        "```\n",
        "```\n",
        "2. Input tweet\n",
        "Its american tradition bitch\n",
        "    \n",
        "2. Tokenized tweet\n",
        "Its , american , tradition , bitch\n",
        "\n",
        "\n",
        "```\n",
        "```\n",
        "3. Input tweet\n",
        "@ThroughTheVoid They love it! The only pleasure they get in life. I actually do that. I'm sure I hear a tiny squeak... Then louder ones\n",
        "    \n",
        "3. Tokenized tweet\n",
        "@ThroughTheVoid , They , love , it , ! , The , only , pleasure , they , get , in , life , . , I , actually , do , that , . , I , ' , m , sure , I , hear , a , tiny , squeak , . , . , . , Then , louder , ones\n",
        "\n",
        "\n",
        "```\n",
        "```\n",
        "4. Input tweet\n",
        "\" RT @latti: @AbsoHilare stop tweeting in church! Lol <--- \"\"I tweet because I'm happy, I tweet because I'm free\"\" LOL!\"\n",
        "    \n",
        "4. Tokenized tweet\n",
        "\" , RT , @latti , : , @AbsoHilare , stop , tweeting , in , church , ! , Lol , < , - , - , - , \" , \" , I , tweet , because , I , ' , m , happy , , , I , tweet , because , I , ' , m , free , \" , \" , LOL , ! , \"\n",
        "\n",
        "\n",
        "```\n",
        "```\n",
        "5. Input tweet\n",
        "Samsung Mini S2 portable HDD graced with colors that perfectly match your tacky beach gear: Sammy's done it aga.. http://tinyurl.com/lb5p6m\n",
        "    \n",
        "5. Tokenized tweet\n",
        "Samsung , Mini , S2 , portable , HDD , graced , with , colors , that , perfectly , match , your , tacky , beach , gear , : , Sammy , ' , s , done , it , aga , . , . , http://tinyurl.com/lb5p6m\n",
        "\n",
        "\n",
        "```\n",
        "```\n",
        "6. Input tweet\n",
        "@dialloc congrats on finding your way over. it may be slow going at first. hang in there. it's kinda cool when u get up to speed.\n",
        "    \n",
        "6. Tokenized tweet\n",
        "@dialloc , congrats , on , finding , your , way , over , . , it , may , be , slow , going , at , first , . , hang , in , there , . , it , ' , s , kinda , cool , when , u , get , up , to , speed , .\n",
        "\n",
        "\n",
        "```\n",
        "```\n",
        "7. Input tweet\n",
        "iPhone activation delays continue, Apple offers $30 http://twt.gs/l3Ki\n",
        "    \n",
        "7. Tokenized tweet\n",
        "iPhone , activation , delays , continue , , , Apple , offers , $ , 30 , http://twt.gs/l3Ki\n",
        "\n",
        "\n",
        "```\n",
        "```\n",
        "8. Input tweet\n",
        "RT @GoogleAtWork Gmail maximum attachment size now 25MB http://bit.ly/62mjw Nice!!!\n",
        "    \n",
        "8. Tokenized tweet\n",
        "RT , @GoogleAtWork , Gmail , maximum , attachment , size , now , 25MB , http://bit.ly/62mjw , Nice , ! , ! , !\n",
        "\n",
        "\n",
        "```\n",
        "```\n",
        "9. Input tweet\n",
        "RT @acfou The Ads Won Awards for Crispin; But Did Nothing for Client BurgerKing's Sales/Marketshare - Big Surprise - http://ping.fm/vw8TI\n",
        "    \n",
        "9. Tokenized tweet\n",
        "RT , @acfou , The , Ads , Won , Awards , for , Crispin , ; , But , Did , Nothing , for , Client , BurgerKing , ' , s , Sales , / , Marketshare , - , Big , Surprise , - , http://ping.fm/vw8TI\n",
        "\n",
        "\n",
        "```\n",
        "```\n",
        "10. Input tweet\n",
        "Hey doll! Great I missed True Blood yday boo lol Rt @FrankBanuat78 @jhillstephens Hello Sunshine how are u today? :-)\n",
        "    \n",
        "10. Tokenized tweet\n",
        "Hey , doll , ! , Great , I , missed , True , Blood , yday , boo , lol , Rt , @FrankBanuat78 , @jhillstephens , Hello , Sunshine , how , are , u , today , ? , :-)\n",
        "\n",
        "\n",
        "```\n",
        "```\n",
        "11. Input tweet\n",
        "Australian artist Pogo made these free songs primarily from sampled audio from Alice In Wonderland. http://www.last.fm/music/Pogo/Wonderland\n",
        "    \n",
        "11. Tokenized tweet\n",
        "Australian , artist , Pogo , made , these , free , songs , primarily , from , sampled , audio , from , Alice , In , Wonderland , . , http://www.last.fm/music/Pogo/Wonderland\n",
        "\n",
        "\n",
        "```\n",
        "```\n",
        "12. Input tweet\n",
        "@mppritchard they wanted to sell all the preorders & then sell all of the ones they had in stock to those that just walked in. Can't do both\n",
        "    \n",
        "12. Tokenized tweet\n",
        "@mppritchard , they , wanted , to , sell , all , the , preorders , & , then , sell , all , of , the , ones , they , had , in , stock , to , those , that , just , walked , in , . , Can , ' , t , do , both\n",
        "\n",
        "\n",
        "```\n",
        "```\n",
        "13. Input tweet\n",
        "Incoming: Frightened Rabbit, Sept. 22 (Tucson): If Fat Cat Records is going to send three great bands from Scot.. http://tinyurl.com/nz6xcv\n",
        "    \n",
        "13. Tokenized tweet\n",
        "Incoming , : , Frightened , Rabbit , , , Sept , . , 22 , ( , Tucson , ) , : , If , Fat , Cat , Records , is , going , to , send , three , great , bands , from , Scot , . , . , http://tinyurl.com/nz6xcv\n",
        "\n",
        "\n",
        "```\n",
        "```\n",
        "14. Input tweet\n",
        "Hey @ginoandfran please greet philip! (GinoandFran live > http://ustre.am/2YyQ)\n",
        "    \n",
        "14. Tokenized tweet\n",
        "Hey , @ginoandfran , please , greet , philip , ! , ( , GinoandFran , live , > , http://ustre.am/2YyQ , )\n",
        "\n",
        "\n",
        "```\n",
        "```\n",
        "15. Input tweet\n",
        "Ik weet niet wie er achter de T-Mobile iPhone Twitter zit maar ik vind het niet echt 'corporate' taalgebruik... Best vreemd eigenlijk\n",
        "    \n",
        "15. Tokenized tweet\n",
        "Ik , weet , niet , wie , er , achter , de , T , - , Mobile , iPhone , Twitter , zit , maar , ik , vind , het , niet , echt , ' , corporate , ' , taalgebruik , . , . , . , Best , vreemd , eigenlijk\n",
        "\n",
        "\n",
        "```\n"
      ]
    },
    {
      "cell_type": "markdown",
      "metadata": {
        "id": "-2J2AD2nmUhi"
      },
      "source": [
        "## Task 2. Implement [Byte-Pair Encoding(BPE)](https://arxiv.org/pdf/1508.07909.pdf) Tokenizer (80 points)\n",
        "\n",
        "### Task 2.1. Implementation (60 points)\n",
        "\n",
        "Implement the tokenizer as the BPETokenizer class:\n",
        "* Implement `train` method that learns merges and builds the vocabulary of the specified `vocab_size` (25 points).\n",
        "* Implement `tokenize` method that should tokenize the text according to the learnt merges (25 points).\n",
        "\n",
        "Your code should have docstrings and comments (10 points)."
      ]
    },
    {
      "cell_type": "code",
      "execution_count": 4,
      "metadata": {},
      "outputs": [],
      "source": [
        "from collections import defaultdict\n",
        "\n",
        "\n",
        "class BPETokenizer:\n",
        "\n",
        "    def __init__(self, vocab_size: int) -> None:\n",
        "        self.vocab_size = vocab_size\n",
        "\n",
        "    def train(self, corpus: list[str]) -> None:\n",
        "        \"\"\"\n",
        "        Trains the tokenizer on the given corpus.\n",
        "\n",
        "        Args:\n",
        "        - corpus: a list of strings, where each string represents a document\n",
        "        \"\"\"\n",
        "\n",
        "        # all text concatenated\n",
        "        concat_text = \" \".join([el.strip() for el in corpus])\n",
        "\n",
        "        # each word as a list of characters\n",
        "        separated = [list((word)) for word in concat_text.split()]\n",
        "\n",
        "        # flatten the list of lists to get all the characters\n",
        "        flat_ids = [item for sublist in separated for item in sublist]\n",
        "        self.vocab = set(flat_ids)\n",
        "\n",
        "        # while the vocab size is less than the desired size\n",
        "        while len(self.vocab) < self.vocab_size:\n",
        "            # calculate the frequency of each pair of characters\n",
        "            pairs = defaultdict(lambda: 0)\n",
        "            for word in separated:\n",
        "                for i in range(len(word) - 1):\n",
        "                    pairs[(word[i] + word[i + 1])] += 1\n",
        "\n",
        "            # get the most frequent pair\n",
        "            best_pair = max(pairs, key=pairs.get)\n",
        "            self.vocab.add(best_pair)\n",
        "\n",
        "            # replace the pair with a single character\n",
        "            for word in separated:\n",
        "                i = 0\n",
        "                while i < len(word) - 1:\n",
        "                    if word[i] + word[i + 1] == best_pair:\n",
        "                        word[i] = best_pair\n",
        "                        word.pop(i + 1)\n",
        "                    i += 1\n",
        "\n",
        "    def tokenize(self, text: str) -> list[str]:\n",
        "        \"\"\"\n",
        "        Tokenizes the given text.\n",
        "\n",
        "        Args:\n",
        "        - text: a string\n",
        "        \"\"\"\n",
        "\n",
        "        tokenized = []\n",
        "        for word in text.split():\n",
        "            # greedy algorithm to find the longest token\n",
        "            while word:\n",
        "                best_match = \"\"\n",
        "                for token in self.vocab:\n",
        "                    if word.startswith(token) and len(token) > len(best_match):\n",
        "                        best_match = token\n",
        "\n",
        "                tokenized.append(best_match)\n",
        "                word = word[len(best_match) :]\n",
        "\n",
        "        return tokenized"
      ]
    },
    {
      "cell_type": "code",
      "execution_count": 5,
      "metadata": {},
      "outputs": [],
      "source": [
        "eng_data = []\n",
        "for i in range(5):\n",
        "    with open(root / f\"file{i + 1}\") as f:\n",
        "        eng_data.extend(f.readlines())\n",
        "\n",
        "t = BPETokenizer(400)\n",
        "t.train(eng_data)"
      ]
    },
    {
      "cell_type": "code",
      "execution_count": 6,
      "metadata": {},
      "outputs": [
        {
          "name": "stdout",
          "output_type": "stream",
          "text": [
            "['W', 'ha', 't', 'is', 'the', 'st', 'ro', 'ng', 'es', 't', 'm', 'us', 'c', 'le', 'in', 'the', 'h', 'u', 'man', 's', 'b', 'od', 'y']\n"
          ]
        }
      ],
      "source": [
        "print(t.tokenize(\"What is the strongest muscle in the humans body\"))"
      ]
    },
    {
      "cell_type": "markdown",
      "metadata": {},
      "source": [
        "### Task 2.2. Analysis on Tweets Dataset (10 points)\n",
        "\n",
        "Train the BPE tokenizer on the tweets dataset. Try to tokenize the tweets with the tokenizer of different `vocab_size`. For example, train the BPE tokenizer with `vocab_size` of [base_vocab_size, 250, 500, 750, 1000]. Plot the dependency of the average length of the tokenized tweet by `vocab_size` to analyze how `vocab_size` affects the length of the tokenized tweet on average. Tell what `vocab_size` is preferrable and why."
      ]
    },
    {
      "cell_type": "code",
      "execution_count": 7,
      "metadata": {},
      "outputs": [],
      "source": [
        "def vocab_vs_number_of_tokens(\n",
        "    data: list[str],\n",
        "    vocab_sizes: list[int] = [0, 250, 500, 750, 1000],\n",
        "):\n",
        "    lengths = []\n",
        "    for vocab_size in vocab_sizes:\n",
        "        t = BPETokenizer(vocab_size)\n",
        "        t.train(data)\n",
        "\n",
        "        average_length = sum(len(t.tokenize(text)) for text in data) / len(data)\n",
        "        lengths.append(average_length)\n",
        "\n",
        "    return vocab_sizes, lengths"
      ]
    },
    {
      "cell_type": "code",
      "execution_count": 8,
      "metadata": {},
      "outputs": [],
      "source": [
        "vocab_sizes, eng_lengths = vocab_vs_number_of_tokens(eng_data)"
      ]
    },
    {
      "cell_type": "code",
      "execution_count": 9,
      "metadata": {},
      "outputs": [
        {
          "data": {
            "image/png": "[encoded data removed]",
            "text/plain": [
              "<Figure size 640x480 with 1 Axes>"
            ]
          },
          "metadata": {},
          "output_type": "display_data"
        }
      ],
      "source": [
        "import matplotlib.pyplot as plt\n",
        "\n",
        "plt.plot(vocab_sizes, eng_lengths)\n",
        "plt.xlabel(\"Vocab size\")\n",
        "plt.ylabel(\"Average number of tokens\")\n",
        "plt.title(\"Vocab size vs average number of tokens (English)\")\n",
        "plt.show()"
      ]
    },
    {
      "cell_type": "markdown",
      "metadata": {},
      "source": [
        "> Tell what `vocab_size` is preferrable and why.\n",
        "\n",
        "I think that the preferable `vocab_size` is somewhat like 250, this is very similar to elbow method in clustering. We don't want too much tokens, since they will be too specific and we don't want too little tokens, since they will be too general. So, we need to find the sweet spot in between."
      ]
    },
    {
      "cell_type": "markdown",
      "metadata": {},
      "source": [
        "### Task 2.3. Analysis on Dataset of Different Language (10 points)\n",
        "\n",
        "Find a small dataset of texts in a language other than English. The dataset size should be not greater than several megabytes.\n",
        "\n",
        "Train the BPE tokenizer on the dataset that you found. Try to tokenize the sentences from this dataset with the tokenizer of different `vocab_size`. Plot the dependency of the average length of the tokenized sentence by `vocab_size` to analyze how `vocab_size` affects the length of the tokenized sentence on average.\n",
        "\n",
        "Tell how how the average length of the tokenized sentence differs from the average length of the tokenized tweet. Explain why. "
      ]
    },
    {
      "cell_type": "code",
      "execution_count": 10,
      "metadata": {},
      "outputs": [
        {
          "data": {
            "text/plain": [
              "['boykottieren h rt sich besser an blue heart blue heart ',\n",
              " 'rt es wird spekuliert ob merkel ein amt in br ssel bernimmt re es so wie sch tzen sie dann die zukunft der mitgliedstaaten ',\n",
              " 'hat hitler wirklich den krieg in der ste verloren nach der welt schlagzeile hat die tagesschau nicht reagiert ',\n",
              " 'rt may tritt in uk unter tr nen zur ck wenn merkel zur cktritt dann auch unter tr nen unter den freudentr nen von ',\n",
              " 'eher nicht das g nse hauen wieder ab in ihre warmen berwinterungsquartiere grinning with sweat tears of joy ']"
            ]
          },
          "execution_count": 10,
          "metadata": {},
          "output_type": "execute_result"
        }
      ],
      "source": [
        "import pandas as pd\n",
        "\n",
        "ger_data = pd.read_csv(\"data/german_tweets.csv\")[\"comment_text\"].tolist()\n",
        "ger_data[:5]"
      ]
    },
    {
      "cell_type": "code",
      "execution_count": 11,
      "metadata": {},
      "outputs": [],
      "source": [
        "vocab_sizes, ger_lengths = vocab_vs_number_of_tokens(ger_data)"
      ]
    },
    {
      "cell_type": "code",
      "execution_count": 12,
      "metadata": {},
      "outputs": [
        {
          "data": {
            "image/png": "[encoded data removed]",
            "text/plain": [
              "<Figure size 1200x480 with 2 Axes>"
            ]
          },
          "metadata": {},
          "output_type": "display_data"
        }
      ],
      "source": [
        "fig, axs = plt.subplots(1, 2, sharey=True)\n",
        "\n",
        "fig.set_figwidth(12)\n",
        "\n",
        "axs[0].plot(vocab_sizes, eng_lengths)\n",
        "axs[1].plot(vocab_sizes, ger_lengths)\n",
        "axs[0].set_title(\"English\")\n",
        "axs[1].set_title(\"German\")\n",
        "\n",
        "axs[0].set_ylabel(\"Average number of tokens\")\n",
        "axs[0].set_xlabel(\"Vocab size\")\n",
        "axs[1].set_xlabel(\"Vocab size\")\n",
        "plt.show()"
      ]
    },
    {
      "cell_type": "markdown",
      "metadata": {},
      "source": [
        "> Tell how how the average length of the tokenized sentence differs from the average length of the tokenized tweet. Explain why.\n",
        "\n",
        "Average length of the tokenized german tweets is smaller than the average length of the tokenized english tweets. This is because the german language has a lot of compound words, which are tokenized into smaller parts. This is not the case with english language, where compound words are not that common."
      ]
    }
  ],
  "metadata": {
    "colab": {
      "provenance": [],
      "toc_visible": true
    },
    "kernelspec": {
      "display_name": "Python 3",
      "name": "python3"
    },
    "language_info": {
      "codemirror_mode": {
        "name": "ipython",
        "version": 3
      },
      "file_extension": ".py",
      "mimetype": "text/x-python",
      "name": "python",
      "nbconvert_exporter": "python",
      "pygments_lexer": "ipython3",
      "version": "3.10.13"
    }
  },
  "nbformat": 4,
  "nbformat_minor": 0
}
